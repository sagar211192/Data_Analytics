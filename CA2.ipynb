{
 "cells": [
  {
   "cell_type": "code",
   "execution_count": 80,
   "metadata": {},
   "outputs": [],
   "source": [
    "import numpy as np\n",
    "import pandas as pd\n",
    "import matplotlib.pyplot as plt\n",
    "from sklearn.preprocessing import StandardScaler\n",
    "from sklearn.decomposition import PCA\n",
    "from sklearn.cluster import KMeans\n",
    "from sklearn.manifold import TSNE\n",
    "import plotly.graph_objs as go\n",
    "import plotly .offline as offline\n",
    "import plotly.figure_factory as ff"
   ]
  },
  {
   "cell_type": "code",
   "execution_count": 86,
   "metadata": {},
   "outputs": [
    {
     "name": "stdout",
     "output_type": "stream",
     "text": [
      "   gender  SeniorCitizen Partner Dependents  tenure PhoneService  \\\n",
      "0  Female              0     Yes         No       1           No   \n",
      "1    Male              0      No         No      34          Yes   \n",
      "2    Male              0      No         No       2          Yes   \n",
      "3    Male              0      No         No      45           No   \n",
      "4  Female              0      No         No       2          Yes   \n",
      "\n",
      "      MultipleLines InternetService OnlineSecurity OnlineBackup  \\\n",
      "0  No phone service             DSL             No          Yes   \n",
      "1                No             DSL            Yes           No   \n",
      "2                No             DSL            Yes          Yes   \n",
      "3  No phone service             DSL            Yes           No   \n",
      "4                No     Fiber optic             No           No   \n",
      "\n",
      "  DeviceProtection TechSupport StreamingTV StreamingMovies        Contract  \\\n",
      "0               No          No          No              No  Month-to-month   \n",
      "1              Yes          No          No              No        One year   \n",
      "2               No          No          No              No  Month-to-month   \n",
      "3              Yes         Yes          No              No        One year   \n",
      "4               No          No          No              No  Month-to-month   \n",
      "\n",
      "  PaperlessBilling              PaymentMethod  MonthlyCharges  TotalCharges  \n",
      "0              Yes           Electronic check           29.85         29.85  \n",
      "1               No               Mailed check           56.95       1889.50  \n",
      "2              Yes               Mailed check           53.85        108.15  \n",
      "3               No  Bank transfer (automatic)           42.30       1840.75  \n",
      "4              Yes           Electronic check           70.70        151.65  \n",
      "(7032, 19)\n",
      "<class 'pandas.core.frame.DataFrame'>\n",
      "RangeIndex: 7032 entries, 0 to 7031\n",
      "Data columns (total 19 columns):\n",
      " #   Column            Non-Null Count  Dtype  \n",
      "---  ------            --------------  -----  \n",
      " 0   gender            7032 non-null   object \n",
      " 1   SeniorCitizen     7032 non-null   int64  \n",
      " 2   Partner           7032 non-null   object \n",
      " 3   Dependents        7032 non-null   object \n",
      " 4   tenure            7032 non-null   int64  \n",
      " 5   PhoneService      7032 non-null   object \n",
      " 6   MultipleLines     7032 non-null   object \n",
      " 7   InternetService   7032 non-null   object \n",
      " 8   OnlineSecurity    7032 non-null   object \n",
      " 9   OnlineBackup      7032 non-null   object \n",
      " 10  DeviceProtection  7032 non-null   object \n",
      " 11  TechSupport       7032 non-null   object \n",
      " 12  StreamingTV       7032 non-null   object \n",
      " 13  StreamingMovies   7032 non-null   object \n",
      " 14  Contract          7032 non-null   object \n",
      " 15  PaperlessBilling  7032 non-null   object \n",
      " 16  PaymentMethod     7032 non-null   object \n",
      " 17  MonthlyCharges    7032 non-null   float64\n",
      " 18  TotalCharges      7032 non-null   float64\n",
      "dtypes: float64(2), int64(2), object(15)\n",
      "memory usage: 1.0+ MB\n",
      "None\n",
      "       SeniorCitizen       tenure  MonthlyCharges  TotalCharges\n",
      "count    7032.000000  7032.000000     7032.000000   7032.000000\n",
      "mean        0.162400    32.421786       64.798208   2283.300441\n",
      "std         0.368844    24.545260       30.085974   2266.771362\n",
      "min         0.000000     1.000000       18.250000     18.800000\n",
      "25%         0.000000     9.000000       35.587500    401.450000\n",
      "50%         0.000000    29.000000       70.350000   1397.475000\n",
      "75%         0.000000    55.000000       89.862500   3794.737500\n",
      "max         1.000000    72.000000      118.750000   8684.800000\n"
     ]
    }
   ],
   "source": [
    "# Importing dataset and examining it\n",
    "dataset = pd.read_csv(\"customers.csv\")\n",
    "print(dataset.head())\n",
    "print(dataset.shape)\n",
    "print(dataset.info())\n",
    "print(dataset.describe())"
   ]
  },
  {
   "cell_type": "code",
   "execution_count": 87,
   "metadata": {},
   "outputs": [
    {
     "data": {
      "text/plain": [
       "'corrheatmap.html'"
      ]
     },
     "execution_count": 87,
     "metadata": {},
     "output_type": "execute_result"
    }
   ],
   "source": [
    "# Plotting Correlation Heatmap\n",
    "corrs = dataset.corr()\n",
    "figure = ff.create_annotated_heatmap(\n",
    "    z=corrs.values,\n",
    "    x=list(corrs.columns),\n",
    "    y=list(corrs.index),\n",
    "    annotation_text=corrs.round(2).values,\n",
    "    showscale=True)\n",
    "offline.plot(figure,filename='corrheatmap.html')"
   ]
  },
  {
   "cell_type": "code",
   "execution_count": 88,
   "metadata": {},
   "outputs": [
    {
     "name": "stdout",
     "output_type": "stream",
     "text": [
      "<class 'pandas.core.frame.DataFrame'>\n",
      "RangeIndex: 7032 entries, 0 to 7031\n",
      "Data columns (total 18 columns):\n",
      " #   Column            Non-Null Count  Dtype  \n",
      "---  ------            --------------  -----  \n",
      " 0   gender            7032 non-null   object \n",
      " 1   SeniorCitizen     7032 non-null   int64  \n",
      " 2   Partner           7032 non-null   object \n",
      " 3   Dependents        7032 non-null   object \n",
      " 4   tenure            7032 non-null   int64  \n",
      " 5   PhoneService      7032 non-null   object \n",
      " 6   MultipleLines     7032 non-null   object \n",
      " 7   InternetService   7032 non-null   object \n",
      " 8   OnlineSecurity    7032 non-null   object \n",
      " 9   OnlineBackup      7032 non-null   object \n",
      " 10  DeviceProtection  7032 non-null   object \n",
      " 11  TechSupport       7032 non-null   object \n",
      " 12  StreamingTV       7032 non-null   object \n",
      " 13  StreamingMovies   7032 non-null   object \n",
      " 14  Contract          7032 non-null   object \n",
      " 15  PaperlessBilling  7032 non-null   object \n",
      " 16  PaymentMethod     7032 non-null   object \n",
      " 17  MonthlyCharges    7032 non-null   float64\n",
      "dtypes: float64(1), int64(2), object(15)\n",
      "memory usage: 989.0+ KB\n",
      "None\n"
     ]
    }
   ],
   "source": [
    "# Dropping columns with high correlation + causation \n",
    "dataset = dataset.drop(['TotalCharges'], axis = 1)\n",
    "print(dataset.info())"
   ]
  },
  {
   "cell_type": "code",
   "execution_count": 89,
   "metadata": {},
   "outputs": [
    {
     "name": "stdout",
     "output_type": "stream",
     "text": [
      "<class 'pandas.core.frame.DataFrame'>\n",
      "RangeIndex: 7032 entries, 0 to 7031\n",
      "Data columns (total 45 columns):\n",
      " #   Column                                   Non-Null Count  Dtype  \n",
      "---  ------                                   --------------  -----  \n",
      " 0   tenure                                   7032 non-null   int64  \n",
      " 1   MonthlyCharges                           7032 non-null   float64\n",
      " 2   gender_Female                            7032 non-null   uint8  \n",
      " 3   gender_Male                              7032 non-null   uint8  \n",
      " 4   SeniorCitizen_0                          7032 non-null   uint8  \n",
      " 5   SeniorCitizen_1                          7032 non-null   uint8  \n",
      " 6   Partner_No                               7032 non-null   uint8  \n",
      " 7   Partner_Yes                              7032 non-null   uint8  \n",
      " 8   Dependents_No                            7032 non-null   uint8  \n",
      " 9   Dependents_Yes                           7032 non-null   uint8  \n",
      " 10  PhoneService_No                          7032 non-null   uint8  \n",
      " 11  PhoneService_Yes                         7032 non-null   uint8  \n",
      " 12  MultipleLines_No                         7032 non-null   uint8  \n",
      " 13  MultipleLines_No phone service           7032 non-null   uint8  \n",
      " 14  MultipleLines_Yes                        7032 non-null   uint8  \n",
      " 15  InternetService_DSL                      7032 non-null   uint8  \n",
      " 16  InternetService_Fiber optic              7032 non-null   uint8  \n",
      " 17  InternetService_No                       7032 non-null   uint8  \n",
      " 18  OnlineSecurity_No                        7032 non-null   uint8  \n",
      " 19  OnlineSecurity_No internet service       7032 non-null   uint8  \n",
      " 20  OnlineSecurity_Yes                       7032 non-null   uint8  \n",
      " 21  OnlineBackup_No                          7032 non-null   uint8  \n",
      " 22  OnlineBackup_No internet service         7032 non-null   uint8  \n",
      " 23  OnlineBackup_Yes                         7032 non-null   uint8  \n",
      " 24  DeviceProtection_No                      7032 non-null   uint8  \n",
      " 25  DeviceProtection_No internet service     7032 non-null   uint8  \n",
      " 26  DeviceProtection_Yes                     7032 non-null   uint8  \n",
      " 27  TechSupport_No                           7032 non-null   uint8  \n",
      " 28  TechSupport_No internet service          7032 non-null   uint8  \n",
      " 29  TechSupport_Yes                          7032 non-null   uint8  \n",
      " 30  StreamingTV_No                           7032 non-null   uint8  \n",
      " 31  StreamingTV_No internet service          7032 non-null   uint8  \n",
      " 32  StreamingTV_Yes                          7032 non-null   uint8  \n",
      " 33  StreamingMovies_No                       7032 non-null   uint8  \n",
      " 34  StreamingMovies_No internet service      7032 non-null   uint8  \n",
      " 35  StreamingMovies_Yes                      7032 non-null   uint8  \n",
      " 36  Contract_Month-to-month                  7032 non-null   uint8  \n",
      " 37  Contract_One year                        7032 non-null   uint8  \n",
      " 38  Contract_Two year                        7032 non-null   uint8  \n",
      " 39  PaperlessBilling_No                      7032 non-null   uint8  \n",
      " 40  PaperlessBilling_Yes                     7032 non-null   uint8  \n",
      " 41  PaymentMethod_Bank transfer (automatic)  7032 non-null   uint8  \n",
      " 42  PaymentMethod_Credit card (automatic)    7032 non-null   uint8  \n",
      " 43  PaymentMethod_Electronic check           7032 non-null   uint8  \n",
      " 44  PaymentMethod_Mailed check               7032 non-null   uint8  \n",
      "dtypes: float64(1), int64(1), uint8(43)\n",
      "memory usage: 405.3 KB\n",
      "None\n",
      "   tenure  MonthlyCharges  gender_Female  gender_Male  SeniorCitizen_0  \\\n",
      "0       1           29.85              1            0                1   \n",
      "1      34           56.95              0            1                1   \n",
      "\n",
      "   SeniorCitizen_1  Partner_No  Partner_Yes  Dependents_No  Dependents_Yes  \\\n",
      "0                0           0            1              1               0   \n",
      "1                0           1            0              1               0   \n",
      "\n",
      "   ...  StreamingMovies_Yes  Contract_Month-to-month  Contract_One year  \\\n",
      "0  ...                    0                        1                  0   \n",
      "1  ...                    0                        0                  1   \n",
      "\n",
      "   Contract_Two year  PaperlessBilling_No  PaperlessBilling_Yes  \\\n",
      "0                  0                    0                     1   \n",
      "1                  0                    1                     0   \n",
      "\n",
      "   PaymentMethod_Bank transfer (automatic)  \\\n",
      "0                                        0   \n",
      "1                                        0   \n",
      "\n",
      "   PaymentMethod_Credit card (automatic)  PaymentMethod_Electronic check  \\\n",
      "0                                      0                               1   \n",
      "1                                      0                               0   \n",
      "\n",
      "   PaymentMethod_Mailed check  \n",
      "0                           0  \n",
      "1                           1  \n",
      "\n",
      "[2 rows x 45 columns]\n"
     ]
    }
   ],
   "source": [
    "# Converting Categorical features into Numerical features\n",
    "categorical_features = ['gender', 'SeniorCitizen','Partner', 'Dependents', 'PhoneService', 'MultipleLines', 'InternetService', 'OnlineSecurity', 'OnlineBackup', 'DeviceProtection',\n",
    "                       'TechSupport', 'StreamingTV', 'StreamingMovies', 'Contract','PaperlessBilling', 'PaymentMethod']\n",
    "final_data = pd.get_dummies(dataset, columns = categorical_features)\n",
    "print(final_data.info())\n",
    "print(final_data.head(2))"
   ]
  },
  {
   "cell_type": "code",
   "execution_count": 90,
   "metadata": {},
   "outputs": [],
   "source": [
    "# Dividing data into subsets\n",
    "#Personal Info\n",
    "subset1 = final_data[['gender_Female', 'gender_Male', 'SeniorCitizen_0', 'SeniorCitizen_1', 'Partner_No', 'Partner_Yes', 'Dependents_No', 'Dependents_Yes']]\n",
    "\n",
    "#Security Choice\n",
    "subset2 = final_data[['OnlineSecurity_Yes', 'OnlineSecurity_No', 'OnlineSecurity_No internet service', 'OnlineBackup_No', \n",
    "                      'OnlineBackup_No internet service', 'OnlineBackup_Yes','DeviceProtection_No', 'DeviceProtection_Yes', \n",
    "                      'DeviceProtection_No internet service', 'TechSupport_No', 'TechSupport_Yes', 'TechSupport_No internet service']]\n",
    "\n",
    "#Billing\n",
    "subset3 = final_data[['tenure', 'Contract_Month-to-month', 'Contract_One year', 'Contract_Two year', 'PaperlessBilling_No', 'PaperlessBilling_Yes',\n",
    "                     'PaymentMethod_Bank transfer (automatic)', 'PaymentMethod_Credit card (automatic)', 'PaymentMethod_Electronic check',\n",
    "                     'PaymentMethod_Mailed check', 'MonthlyCharges']]\n",
    "\n",
    "#Offered Services\n",
    "subset4 = final_data[['PhoneService_No', 'PhoneService_Yes', 'MultipleLines_No', 'MultipleLines_Yes', 'MultipleLines_No phone service',\n",
    "                     'InternetService_DSL', 'InternetService_No', 'InternetService_Fiber optic', 'StreamingTV_No', 'StreamingTV_Yes',\n",
    "                     'StreamingMovies_No internet service']]"
   ]
  },
  {
   "cell_type": "code",
   "execution_count": 91,
   "metadata": {},
   "outputs": [],
   "source": [
    "# Normalizing numerical features so that each feature has mean 0 and variance 1\n",
    "feature_scaler = StandardScaler()\n",
    "X1 = feature_scaler.fit_transform(subset1)\n",
    "X2 = feature_scaler.fit_transform(subset2)\n",
    "X3 = feature_scaler.fit_transform(subset3)\n",
    "X4 = feature_scaler.fit_transform(subset4)"
   ]
  },
  {
   "cell_type": "code",
   "execution_count": 92,
   "metadata": {
    "scrolled": true
   },
   "outputs": [
    {
     "data": {
      "image/png": "[encoded data removed]",
      "text/plain": [
       "<Figure size 432x288 with 1 Axes>"
      ]
     },
     "metadata": {
      "needs_background": "light"
     },
     "output_type": "display_data"
    }
   ],
   "source": [
    "# Analysis on subset1 - Personal Data\n",
    "# Finding the number of clusters (K) - Elbow Plot Method\n",
    "inertia = []\n",
    "for i in range(1,11):\n",
    "    kmeans = KMeans(n_clusters = i, random_state = 100)\n",
    "    kmeans.fit(X1)\n",
    "    inertia.append(kmeans.inertia_)\n",
    "    \n",
    "plt.plot(range(1, 11), inertia)\n",
    "plt.title('The Elbow Plot')\n",
    "plt.xlabel('Number of clusters')\n",
    "plt.ylabel('Inertia')\n",
    "plt.show()"
   ]
  },
  {
   "cell_type": "code",
   "execution_count": 93,
   "metadata": {},
   "outputs": [
    {
     "data": {
      "text/plain": [
       "KMeans(n_clusters=4)"
      ]
     },
     "execution_count": 93,
     "metadata": {},
     "output_type": "execute_result"
    }
   ],
   "source": [
    "# Running KMeans to generate labels\n",
    "kmeans = KMeans(n_clusters = 4)\n",
    "kmeans.fit(X1)"
   ]
  },
  {
   "cell_type": "code",
   "execution_count": 95,
   "metadata": {},
   "outputs": [
    {
     "data": {
      "text/plain": [
       "'t-SNE1.html'"
      ]
     },
     "execution_count": 95,
     "metadata": {},
     "output_type": "execute_result"
    }
   ],
   "source": [
    "tsne = TSNE(n_components = 2, perplexity =40,n_iter=4000)\n",
    "x_tsne = tsne.fit_transform(X1)\n",
    "\n",
    "gender = list(dataset['gender'])\n",
    "SeniorCitizen = list(dataset['SeniorCitizen'])\n",
    "Partner = list(dataset['Partner'])\n",
    "Dependents = list(dataset['Dependents'])\n",
    "\n",
    "data = [go.Scatter(x=x_tsne[:,0], y=x_tsne[:,1], mode='markers',\n",
    "                    marker = dict(color=kmeans.labels_, colorscale='Rainbow', opacity=0.5),\n",
    "                                text=[f'gender: {a}; SeniorCitizen: {b}; Partner:{c}; Dependents:{d}' for a,b,c,d in list(zip(gender,SeniorCitizen,Partner,Dependents))],\n",
    "                                hoverinfo='text')]\n",
    "\n",
    "layout = go.Layout(title = 't-SNE Dimensionality Reduction', width = 700, height = 700,\n",
    "                    xaxis = dict(title='First Dimension'),\n",
    "                    yaxis = dict(title='Second Dimension'))\n",
    "fig = go.Figure(data=data, layout=layout)\n",
    "offline.plot(fig,filename='t-SNE1.html')"
   ]
  },
  {
   "cell_type": "code",
   "execution_count": 109,
   "metadata": {},
   "outputs": [
    {
     "data": {
      "image/png": "[encoded data removed]",
      "text/plain": [
       "<Figure size 432x288 with 1 Axes>"
      ]
     },
     "metadata": {
      "needs_background": "light"
     },
     "output_type": "display_data"
    }
   ],
   "source": [
    "# Analysis on subset2 - Security Choice\n",
    "# Finding the number of clusters (K) - Elbow Plot Method\n",
    "inertia = []\n",
    "for i in range(1,11):\n",
    "    kmeans = KMeans(n_clusters = i, random_state = 100)\n",
    "    kmeans.fit(X2)\n",
    "    inertia.append(kmeans.inertia_)\n",
    "    \n",
    "plt.plot(range(1, 11), inertia)\n",
    "plt.title('The Elbow Plot')\n",
    "plt.xlabel('Number of clusters')\n",
    "plt.ylabel('Inertia')\n",
    "plt.show()"
   ]
  },
  {
   "cell_type": "code",
   "execution_count": 110,
   "metadata": {},
   "outputs": [
    {
     "data": {
      "text/plain": [
       "KMeans(n_clusters=2)"
      ]
     },
     "execution_count": 110,
     "metadata": {},
     "output_type": "execute_result"
    }
   ],
   "source": [
    "# Running KMeans to generate labels\n",
    "kmeans = KMeans(n_clusters = 2)\n",
    "kmeans.fit(X2)"
   ]
  },
  {
   "cell_type": "code",
   "execution_count": 112,
   "metadata": {},
   "outputs": [
    {
     "data": {
      "text/plain": [
       "'t-SNE2.html'"
      ]
     },
     "execution_count": 112,
     "metadata": {},
     "output_type": "execute_result"
    }
   ],
   "source": [
    "tsne = TSNE(n_components = 2, perplexity =40,n_iter=4000)\n",
    "x_tsne = tsne.fit_transform(X2)\n",
    "\n",
    "OnlineSecurity = list(dataset['OnlineSecurity'])\n",
    "OnlineBackup = list(dataset['OnlineBackup'])\n",
    "DeviceProtection = list(dataset['DeviceProtection'])\n",
    "TechSupport = list(dataset['TechSupport'])\n",
    "\n",
    "data = [go.Scatter(x=x_tsne[:,0], y=x_tsne[:,1], mode='markers',\n",
    "                    marker = dict(color=kmeans.labels_, colorscale='Rainbow', opacity=0.5),\n",
    "                                text=[f'OnlineSecurity: {a}; OnlineBackup: {b}; DeviceProtection:{c}; TechSupport:{d}' for a,b,c,d in list(zip(OnlineSecurity,OnlineBackup,DeviceProtection,TechSupport))],\n",
    "                                hoverinfo='text')]\n",
    "\n",
    "layout = go.Layout(title = 't-SNE Dimensionality Reduction', width = 900, height = 900,\n",
    "                    xaxis = dict(title='First Dimension'),\n",
    "                    yaxis = dict(title='Second Dimension'))\n",
    "fig = go.Figure(data=data, layout=layout)\n",
    "offline.plot(fig,filename='t-SNE2.html')"
   ]
  },
  {
   "cell_type": "code",
   "execution_count": 101,
   "metadata": {},
   "outputs": [
    {
     "data": {
      "image/png": "[encoded data removed]",
      "text/plain": [
       "<Figure size 432x288 with 1 Axes>"
      ]
     },
     "metadata": {
      "needs_background": "light"
     },
     "output_type": "display_data"
    }
   ],
   "source": [
    "# Analysis on subset3 - Billing Info\n",
    "# Finding the number of clusters (K) - Elbow Plot Method\n",
    "inertia = []\n",
    "for i in range(1,11):\n",
    "    kmeans = KMeans(n_clusters = i, random_state = 100)\n",
    "    kmeans.fit(X3)\n",
    "    inertia.append(kmeans.inertia_)\n",
    "    \n",
    "plt.plot(range(1, 11), inertia)\n",
    "plt.title('The Elbow Plot')\n",
    "plt.xlabel('Number of clusters')\n",
    "plt.ylabel('Inertia')\n",
    "plt.show()"
   ]
  },
  {
   "cell_type": "code",
   "execution_count": 102,
   "metadata": {},
   "outputs": [
    {
     "data": {
      "text/plain": [
       "KMeans(n_clusters=4)"
      ]
     },
     "execution_count": 102,
     "metadata": {},
     "output_type": "execute_result"
    }
   ],
   "source": [
    "# Running KMeans to generate labels\n",
    "kmeans = KMeans(n_clusters = 4)\n",
    "kmeans.fit(X3)"
   ]
  },
  {
   "cell_type": "code",
   "execution_count": 103,
   "metadata": {},
   "outputs": [
    {
     "data": {
      "text/plain": [
       "'t-SNE3.html'"
      ]
     },
     "execution_count": 103,
     "metadata": {},
     "output_type": "execute_result"
    }
   ],
   "source": [
    "tsne = TSNE(n_components = 2, perplexity =40,n_iter=4000)\n",
    "x_tsne = tsne.fit_transform(X3)\n",
    "\n",
    "tenure = list(dataset['tenure'])\n",
    "Contract = list(dataset['Contract'])\n",
    "PaperlessBilling = list(dataset['PaperlessBilling'])\n",
    "PaymentMethod = list(dataset['PaymentMethod'])\n",
    "MonthlyCharges = list(dataset['MonthlyCharges'])\n",
    "\n",
    "data = [go.Scatter(x=x_tsne[:,0], y=x_tsne[:,1], mode='markers',\n",
    "                    marker = dict(color=kmeans.labels_, colorscale='Rainbow', opacity=0.5),\n",
    "                                text=[f'tenure: {a}; Contract: {b}; PaperlessBilling:{c}; PaymentMethod:{d}; MonthlyCharges:{e}' for a,b,c,d,e in list(zip(tenure,Contract,PaperlessBilling,PaymentMethod,MonthlyCharges))],\n",
    "                                hoverinfo='text')]\n",
    "\n",
    "layout = go.Layout(title = 't-SNE Dimensionality Reduction', width = 700, height = 700,\n",
    "                    xaxis = dict(title='First Dimension'),\n",
    "                    yaxis = dict(title='Second Dimension'))\n",
    "fig = go.Figure(data=data, layout=layout)\n",
    "offline.plot(fig,filename='t-SNE3.html')"
   ]
  },
  {
   "cell_type": "code",
   "execution_count": 106,
   "metadata": {},
   "outputs": [
    {
     "data": {
      "image/png": "[encoded data removed]",
      "text/plain": [
       "<Figure size 432x288 with 1 Axes>"
      ]
     },
     "metadata": {
      "needs_background": "light"
     },
     "output_type": "display_data"
    }
   ],
   "source": [
    "# Analysis on subset4 - Offered Services\n",
    "# Finding the number of clusters (K) - Elbow Plot Method\n",
    "inertia = []\n",
    "for i in range(1,11):\n",
    "    kmeans = KMeans(n_clusters = i, random_state = 100)\n",
    "    kmeans.fit(X4)\n",
    "    inertia.append(kmeans.inertia_)\n",
    "    \n",
    "plt.plot(range(1, 11), inertia)\n",
    "plt.title('The Elbow Plot')\n",
    "plt.xlabel('Number of clusters')\n",
    "plt.ylabel('Inertia')\n",
    "plt.show()"
   ]
  },
  {
   "cell_type": "code",
   "execution_count": 107,
   "metadata": {},
   "outputs": [
    {
     "data": {
      "text/plain": [
       "KMeans(n_clusters=4)"
      ]
     },
     "execution_count": 107,
     "metadata": {},
     "output_type": "execute_result"
    }
   ],
   "source": [
    "# Running KMeans to generate labels\n",
    "kmeans = KMeans(n_clusters = 4)\n",
    "kmeans.fit(X4)"
   ]
  },
  {
   "cell_type": "code",
   "execution_count": 108,
   "metadata": {},
   "outputs": [
    {
     "data": {
      "text/plain": [
       "'t-SNE4.html'"
      ]
     },
     "execution_count": 108,
     "metadata": {},
     "output_type": "execute_result"
    }
   ],
   "source": [
    "tsne = TSNE(n_components = 2, perplexity =40,n_iter=4000)\n",
    "x_tsne = tsne.fit_transform(X4)\n",
    "\n",
    "PhoneService = list(dataset['PhoneService'])\n",
    "MultipleLines = list(dataset['MultipleLines'])\n",
    "InternetService = list(dataset['InternetService'])\n",
    "StreamingTV = list(dataset['StreamingTV'])\n",
    "StreamingMovies = list(dataset['StreamingMovies'])  \n",
    "\n",
    "data = [go.Scatter(x=x_tsne[:,0], y=x_tsne[:,1], mode='markers',\n",
    "                    marker = dict(color=kmeans.labels_, colorscale='Rainbow', opacity=0.5),\n",
    "                                text=[f'PhoneService: {a}; MultipleLines: {b}; InternetService:{c}; StreamingTV:{d}; StreamingMovies:{e}' for a,b,c,d,e in list(zip(PhoneService,MultipleLines,InternetService,StreamingTV,StreamingMovies))],\n",
    "                                hoverinfo='text')]\n",
    "\n",
    "layout = go.Layout(title = 't-SNE Dimensionality Reduction', width = 700, height = 700,\n",
    "                    xaxis = dict(title='First Dimension'),\n",
    "                    yaxis = dict(title='Second Dimension'))\n",
    "fig = go.Figure(data=data, layout=layout)\n",
    "offline.plot(fig,filename='t-SNE4.html')"
   ]
  }
 ],
 "metadata": {
  "kernelspec": {
   "display_name": "Python 3",
   "language": "python",
   "name": "python3"
  },
  "language_info": {
   "codemirror_mode": {
    "name": "ipython",
    "version": 3
   },
   "file_extension": ".py",
   "mimetype": "text/x-python",
   "name": "python",
   "nbconvert_exporter": "python",
   "pygments_lexer": "ipython3",
   "version": "3.8.3"
  }
 },
 "nbformat": 4,
 "nbformat_minor": 4
}
